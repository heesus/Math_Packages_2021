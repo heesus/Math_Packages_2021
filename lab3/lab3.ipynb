{
 "cells": [
  {
   "cell_type": "markdown",
   "metadata": {},
   "source": [
    "# Лабораторная работа №3: практическое применение библиотеки символьных вычислений Python (SymPy)."
   ]
  },
  {
   "cell_type": "markdown",
   "metadata": {},
   "source": [
    "Выполнил студент группы 9383 Орлов Даниил. Вариант 14."
   ]
  },
  {
   "cell_type": "markdown",
   "metadata": {},
   "source": [
    "## Цель работы:"
   ]
  },
  {
   "cell_type": "markdown",
   "metadata": {},
   "source": [
    "Практическое применение библиотеки символьных вычислений Python (SymPy) для решения задач дискретной математики и математической логики."
   ]
  },
  {
   "cell_type": "markdown",
   "metadata": {},
   "source": [
    "## Задачи лабораторной работы:"
   ]
  },
  {
   "cell_type": "markdown",
   "metadata": {},
   "source": [
    "1. Решить свой вариант диофантова уравнения.\n",
    "2. Имея открытую часть ключа RSA найти соответствующую закрытую часть и расшифровать кодированное слово.\n",
    "3. Записать в формате ДНФ и КНФ булеву функцию, заданную своим аналитическим выражением."
   ]
  },
  {
   "cell_type": "markdown",
   "metadata": {},
   "source": [
    "## Диофантово уравнение"
   ]
  },
  {
   "cell_type": "markdown",
   "metadata": {},
   "source": [
    "Вариант 54.\n",
    "\n",
    "Решить диофантово уравнение: \n",
    "### 2691x+ 2852y = 161"
   ]
  },
  {
   "cell_type": "code",
   "execution_count": 27,
   "metadata": {},
   "outputs": [
    {
     "data": {
      "text/latex": [
       "$\\displaystyle \\left( 124 t_{0} + 371, \\  - 117 t_{0} - 350\\right)$"
      ],
      "text/plain": [
       "(124*t_0 + 371, -117*t_0 - 350)"
      ]
     },
     "execution_count": 27,
     "metadata": {},
     "output_type": "execute_result"
    }
   ],
   "source": [
    "from sympy.solvers.diophantine import diop_solve\n",
    "from sympy.abc import x, y\n",
    "diop_solve(2691 * x + 2852 * y - 161)"
   ]
  },
  {
   "cell_type": "markdown",
   "metadata": {},
   "source": [
    "## RSA кодирование"
   ]
  },
  {
   "cell_type": "markdown",
   "metadata": {},
   "source": [
    "Вариант 54.\n",
    "\n",
    "Русское слово из четырех букв закодировано при помощи алгоритма RSA открытым ключом (e = 7,m = 39). Шифрованное сообщение имеет вид (32; 11; 2; 14). Подберите закрытую часть ключа и прочитайте исходное слово. Буквам русского алфавита соответсвуют числа в диапазоне от 2 до 32 (исключены буквы “ё” и “ъ”)."
   ]
  },
  {
   "cell_type": "code",
   "execution_count": 28,
   "metadata": {},
   "outputs": [
    {
     "name": "stdout",
     "output_type": "stream",
     "text": [
      "Исходное слово:  тайм\n"
     ]
    }
   ],
   "source": [
    "from sympy.crypto.crypto import decipher_rsa, rsa_public_key, rsa_private_key\n",
    "\n",
    "e = 7\n",
    "m = 39\n",
    "privateKey = rsa_private_key(m, e)\n",
    "code = [32, 11, 2, 14]\n",
    "alphabet = ['а', 'б', 'в', 'г', 'д', 'е', 'ж', 'з', 'и', 'й', 'к', 'л', 'м', 'н', 'о', 'п', 'р', 'с', 'т', 'у', 'ф', 'х', 'ц', 'ч', 'ш', 'щ', 'ы', 'ь', 'э', 'ю', 'я']\n",
    "\n",
    "word = []\n",
    "for i in code:\n",
    "    word.append(alphabet[decipher_rsa(i, privateKey)-2])\n",
    "\n",
    "word = ''.join([str(i) for i in word])\n",
    "print('Исходное слово: ',word)"
   ]
  },
  {
   "cell_type": "markdown",
   "metadata": {},
   "source": [
    "## Преобразование булевой функции"
   ]
  },
  {
   "cell_type": "markdown",
   "metadata": {},
   "source": [
    "Вариант 74.\n",
    "\n",
    "f(x, y, z) = ((xz) xor x) ∨ ((y xor x)(z ∨ y)) "
   ]
  },
  {
   "cell_type": "code",
   "execution_count": 29,
   "metadata": {},
   "outputs": [
    {
     "name": "stdout",
     "output_type": "stream",
     "text": [
      "f(x,y,z) = (x ^ (x & z)) | ((y | z) & (x ^ y))\n",
      "ДНФ: (x & ~y) | (y & ~x) | (y & ~z)\n",
      "КНФ: (x | y) & (~x | ~y | ~z)\n"
     ]
    }
   ],
   "source": [
    "from sympy.logic.boolalg import to_dnf, to_cnf, Xor\n",
    "from sympy.abc import x,y,z\n",
    "f = (Xor((x&z), x)|(Xor(y,x)&(z|y)))\n",
    "print(\"f(x,y,z) =\", f)\n",
    "print(\"ДНФ:\", to_dnf(f, True))\n",
    "print(\"КНФ:\", to_cnf(f, True))\n"
   ]
  },
  {
   "cell_type": "markdown",
   "metadata": {},
   "source": [
    "## Выводы"
   ]
  },
  {
   "cell_type": "markdown",
   "metadata": {},
   "source": [
    "В данной лабораторной работе были практически изучены и применены библиотеки символьных вычислений Python (SymPy) для решения задач дискретной математики и математической логики."
   ]
  }
 ],
 "metadata": {
  "kernelspec": {
   "display_name": "Python 3 (ipykernel)",
   "language": "python",
   "name": "python3"
  },
  "language_info": {
   "codemirror_mode": {
    "name": "ipython",
    "version": 3
   },
   "file_extension": ".py",
   "mimetype": "text/x-python",
   "name": "python",
   "nbconvert_exporter": "python",
   "pygments_lexer": "ipython3",
   "version": "3.9.7"
  }
 },
 "nbformat": 4,
 "nbformat_minor": 4
}
